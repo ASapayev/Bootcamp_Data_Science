{
 "cells": [
  {
   "cell_type": "code",
   "execution_count": 4,
   "id": "3fbdf45f",
   "metadata": {},
   "outputs": [
    {
     "name": "stdout",
     "output_type": "stream",
     "text": [
      "Cell1\n"
     ]
    }
   ],
   "source": [
    "print(\"Cell1\")"
   ]
  },
  {
   "cell_type": "code",
   "execution_count": 5,
   "id": "f9907cdc",
   "metadata": {},
   "outputs": [
    {
     "name": "stdout",
     "output_type": "stream",
     "text": [
      "Cell2\n"
     ]
    }
   ],
   "source": [
    "print(\"Cell2\")"
   ]
  },
  {
   "cell_type": "code",
   "execution_count": 6,
   "id": "72d624f8",
   "metadata": {},
   "outputs": [
    {
     "name": "stdout",
     "output_type": "stream",
     "text": [
      "Cell3\n"
     ]
    }
   ],
   "source": [
    "print(\"Cell3\")"
   ]
  },
  {
   "cell_type": "code",
   "execution_count": null,
   "id": "0362dd9b",
   "metadata": {},
   "outputs": [],
   "source": []
  }
 ],
 "metadata": {
  "kernelspec": {
   "display_name": "Python 3",
   "language": "python",
   "name": "python3"
  },
  "language_info": {
   "codemirror_mode": {
    "name": "ipython",
    "version": 3
   },
   "file_extension": ".py",
   "mimetype": "text/x-python",
   "name": "python",
   "nbconvert_exporter": "python",
   "pygments_lexer": "ipython3",
   "version": "3.6.7"
  }
 },
 "nbformat": 4,
 "nbformat_minor": 5
}
